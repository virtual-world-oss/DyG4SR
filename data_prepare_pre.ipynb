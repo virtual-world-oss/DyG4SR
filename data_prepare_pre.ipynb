{
 "cells": [
  {
   "cell_type": "code",
   "execution_count": 1,
   "metadata": {},
   "outputs": [],
   "source": [
    "import numpy as np\n",
    "import pandas as pd\n",
    "import torch\n",
    "import os\n",
    "import random"
   ]
  },
  {
   "cell_type": "code",
   "execution_count": 2,
   "metadata": {},
   "outputs": [],
   "source": [
    "data_path = './data/beauty/Amazon_Beauty.inter'"
   ]
  },
  {
   "cell_type": "code",
   "execution_count": 3,
   "metadata": {},
   "outputs": [],
   "source": [
    "ratings = pd.read_csv(data_path, sep='\\t')"
   ]
  },
  {
   "cell_type": "code",
   "execution_count": 4,
   "metadata": {},
   "outputs": [
    {
     "name": "stdout",
     "output_type": "stream",
     "text": [
      "          user_id:token item_id:token  rating:float  timestamp:float\n",
      "0        A39HTATAQ9V7YF    0205616461           5.0       1369699200\n",
      "1        A3JM6GV9MNOF9X    0558925278           3.0       1355443200\n",
      "2        A1Z513UWSAAO0F    0558925278           5.0       1404691200\n",
      "3        A1WMRR494NWEWV    0733001998           4.0       1382572800\n",
      "4        A3IAAVS479H7M7    0737104473           1.0       1274227200\n",
      "...                 ...           ...           ...              ...\n",
      "2023065  A3DEHKPFANB8VA    B00LORWRJA           5.0       1405296000\n",
      "2023066  A3DEHKPFANB8VA    B00LOS7MEE           5.0       1405296000\n",
      "2023067   AG9TJLJUN5OM3    B00LP2YB8E           5.0       1405382400\n",
      "2023068   AYBIB14QOI9PC    B00LPVG6V0           5.0       1405555200\n",
      "2023069  A1PB6OT0OOPKNQ    B00LU0LTOU           5.0       1405641600\n",
      "\n",
      "[2023070 rows x 4 columns]\n"
     ]
    }
   ],
   "source": [
    "print(ratings)"
   ]
  },
  {
   "cell_type": "code",
   "execution_count": 5,
   "metadata": {},
   "outputs": [],
   "source": [
    "ratings = ratings.iloc[:,:4]\n"
   ]
  },
  {
   "cell_type": "code",
   "execution_count": 6,
   "metadata": {},
   "outputs": [
    {
     "name": "stdout",
     "output_type": "stream",
     "text": [
      "          user_id:token item_id:token  rating:float  timestamp:float\n",
      "0        A39HTATAQ9V7YF    0205616461           5.0       1369699200\n",
      "1        A3JM6GV9MNOF9X    0558925278           3.0       1355443200\n",
      "2        A1Z513UWSAAO0F    0558925278           5.0       1404691200\n",
      "3        A1WMRR494NWEWV    0733001998           4.0       1382572800\n",
      "4        A3IAAVS479H7M7    0737104473           1.0       1274227200\n",
      "...                 ...           ...           ...              ...\n",
      "2023065  A3DEHKPFANB8VA    B00LORWRJA           5.0       1405296000\n",
      "2023066  A3DEHKPFANB8VA    B00LOS7MEE           5.0       1405296000\n",
      "2023067   AG9TJLJUN5OM3    B00LP2YB8E           5.0       1405382400\n",
      "2023068   AYBIB14QOI9PC    B00LPVG6V0           5.0       1405555200\n",
      "2023069  A1PB6OT0OOPKNQ    B00LU0LTOU           5.0       1405641600\n",
      "\n",
      "[2023070 rows x 4 columns]\n"
     ]
    }
   ],
   "source": [
    "print(ratings\n",
    "      )"
   ]
  },
  {
   "cell_type": "code",
   "execution_count": 7,
   "metadata": {},
   "outputs": [],
   "source": [
    "ratings.rename(columns={\n",
    "        'user_id:token': 'user_id',\n",
    "        'item_id:token': 'item_id',\n",
    "        'rating:float': 'rating',\n",
    "        'timestamp:float': 'timestamp'\n",
    "        }, inplace=True)"
   ]
  },
  {
   "cell_type": "code",
   "execution_count": 8,
   "metadata": {},
   "outputs": [],
   "source": [
    "df = pd.DataFrame(ratings)\n",
    "\n",
    "# 将DataFrame转换为二维列表\n",
    "data = [df.columns.tolist()] + df.values.tolist()"
   ]
  },
  {
   "cell_type": "code",
   "execution_count": 10,
   "metadata": {},
   "outputs": [],
   "source": [
    "import csv\n",
    "with open('./data/beauty/ratings.dat', 'w', newline='') as f:\n",
    "    writer = csv.writer(f, delimiter=',')\n",
    "    writer.writerows(data)"
   ]
  },
  {
   "cell_type": "code",
   "execution_count": 11,
   "metadata": {},
   "outputs": [],
   "source": [
    "with open('./data/beauty/ratings.dat', 'r') as f:\n",
    "    content = f.read()\n",
    "\n",
    "# 将','替换为'::'\n",
    "content = content.replace(',', '::')\n",
    "\n",
    "# 将替换后的内容写回文件\n",
    "with open('./data/beauty/ratings.dat', 'w') as f:\n",
    "    f.write(content)"
   ]
  },
  {
   "cell_type": "code",
   "execution_count": 26,
   "metadata": {},
   "outputs": [],
   "source": [
    "import pandas as pd\n"
   ]
  },
  {
   "cell_type": "code",
   "execution_count": 27,
   "metadata": {},
   "outputs": [],
   "source": [
    "ratings = {'column1': ['1', '2', '3','3'], 'column2': ['a', 'b', 'c','b']}\n",
    "df = pd.DataFrame(ratings)"
   ]
  },
  {
   "cell_type": "code",
   "execution_count": 28,
   "metadata": {},
   "outputs": [],
   "source": [
    "user_ids_invmap = {1:'1',2:'2',3:'3'}\n",
    "item_ids_invmap = {1:'a',2:'b',3:'c'}\n",
    "user_ids_invmap = {v:k for k,v in user_ids_invmap.items()}\n",
    "item_ids_invmap = {v:k for k,v in item_ids_invmap.items()}\n"
   ]
  },
  {
   "cell_type": "code",
   "execution_count": 29,
   "metadata": {},
   "outputs": [
    {
     "name": "stdout",
     "output_type": "stream",
     "text": [
      "  column1 column2\n",
      "0       1       a\n",
      "1       2       b\n",
      "2       3       c\n",
      "3       3       b\n"
     ]
    }
   ],
   "source": [
    "print(df)"
   ]
  },
  {
   "cell_type": "code",
   "execution_count": null,
   "metadata": {},
   "outputs": [],
   "source": []
  },
  {
   "cell_type": "code",
   "execution_count": 30,
   "metadata": {},
   "outputs": [],
   "source": [
    "df['column1'] = df['column1'].map(user_ids_invmap)\n",
    "df['column2'] = df['column2'].map(item_ids_invmap)"
   ]
  },
  {
   "cell_type": "code",
   "execution_count": 31,
   "metadata": {},
   "outputs": [
    {
     "name": "stdout",
     "output_type": "stream",
     "text": [
      "   column1  column2\n",
      "0        1        1\n",
      "1        2        2\n",
      "2        3        3\n",
      "3        3        2\n"
     ]
    }
   ],
   "source": [
    "print(df)"
   ]
  }
 ],
 "metadata": {
  "kernelspec": {
   "display_name": "pytorch",
   "language": "python",
   "name": "python3"
  },
  "language_info": {
   "codemirror_mode": {
    "name": "ipython",
    "version": 3
   },
   "file_extension": ".py",
   "mimetype": "text/x-python",
   "name": "python",
   "nbconvert_exporter": "python",
   "pygments_lexer": "ipython3",
   "version": "3.1.-1"
  }
 },
 "nbformat": 4,
 "nbformat_minor": 2
}
